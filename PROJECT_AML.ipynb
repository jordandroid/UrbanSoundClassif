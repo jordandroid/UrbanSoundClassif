{
  "nbformat": 4,
  "nbformat_minor": 0,
  "metadata": {
    "accelerator": "GPU",
    "colab": {
      "name": "PROJECT_AML.ipynb",
      "provenance": [],
      "collapsed_sections": [],
      "toc_visible": true
    },
    "kernelspec": {
      "display_name": "Python 3",
      "name": "python3"
    },
    "language_info": {
      "name": "python"
    }
  },
  "cells": [
    {
      "cell_type": "markdown",
      "metadata": {
        "id": "3VNjVGn7Bnwb"
      },
      "source": [
        "# PROJECT AML : UrbanSound8k"
      ]
    },
    {
      "cell_type": "markdown",
      "metadata": {
        "id": "Gj6tHhUlChWB"
      },
      "source": [
        "## Some information about the dataset\n",
        "This dataset is composed of 6.6GB of data, including 8732 sound files of around 4 seconds(but less or equal) and 1 CSV file giving info about files where to find them in the dataset,their original file, their location in the original files, and of course their classes in ID but also with the name associated to it, also if the sound to detect is in foreground or background.\n",
        "\n",
        "There are ten classes of sound and the aim of this project is to develop a classifier for this sound.\n",
        "\n",
        "The ten classes are : airconditioner, carhorn, childrenplaying, dogbark, drilling, engineidling, gunshot, jackhammer, siren, street_music.\n",
        "\n",
        "## How I will do it ?\n",
        "So the idea is to develop a classifier I decided to use features generating a 2D representation of the sound and applying CNN on the generated representation to classify the classes.\n",
        "\n",
        "## Some informations before running\n",
        "You have to clone this folder : https://drive.google.com/drive/folders/1MH2S699CGllBy_HJhG2MUJ07uiyectY8?usp=sharing, to your drive and adapt paths according to your folder hierarchy."
      ]
    },
    {
      "cell_type": "markdown",
      "metadata": {
        "id": "Z5IA_QyxFuzu"
      },
      "source": [
        "## Imports and define some paths\n",
        "\n",
        "\n",
        "\n"
      ]
    },
    {
      "cell_type": "code",
      "metadata": {
        "colab": {
          "base_uri": "https://localhost:8080/"
        },
        "id": "LiRYG9zIBko1",
        "outputId": "ef1de47c-56af-47b9-f299-8d7072629bc2"
      },
      "source": [
        "!pip install torchaudio==0.8.1\n",
        "%matplotlib inline\n",
        "\n",
        "import os\n",
        "import numpy as np\n",
        "import pandas as pd\n",
        "import matplotlib.pyplot as plt\n",
        "\n",
        "## related to sound\n",
        "import torchaudio\n",
        "import torchaudio.transforms as T\n",
        "import IPython.display as ipd\n",
        "\n",
        "## Related to deeplearning\n",
        "import torch\n",
        "from torch import nn, optim\n",
        "import torch.nn.functional as F\n",
        "from torchvision import datasets, transforms, models\n",
        "from torch.utils.data import Dataset, DataLoader\n",
        "\n",
        "## Related to data connect\n",
        "from google.colab import drive"
      ],
      "execution_count": null,
      "outputs": [
        {
          "output_type": "stream",
          "text": [
            "Requirement already satisfied: torchaudio in /usr/local/lib/python3.7/dist-packages (0.8.1)\n",
            "Requirement already satisfied: torch==1.8.1 in /usr/local/lib/python3.7/dist-packages (from torchaudio) (1.8.1+cu101)\n",
            "Requirement already satisfied: typing-extensions in /usr/local/lib/python3.7/dist-packages (from torch==1.8.1->torchaudio) (3.7.4.3)\n",
            "Requirement already satisfied: numpy in /usr/local/lib/python3.7/dist-packages (from torch==1.8.1->torchaudio) (1.19.5)\n"
          ],
          "name": "stdout"
        }
      ]
    },
    {
      "cell_type": "code",
      "metadata": {
        "id": "gHlPPkTZJK4b"
      },
      "source": [
        "PATH_TO_FOLDER =\"/MyDrive/SoundClassif/\"\n",
        "CSV_FILENAME = \"UrbanSound8K.csv\"\n",
        "MOUNTING_LOCATION = \"/content/drive\"\n",
        "\n",
        "# DF VARS\n",
        "FILENAME = \"slice_file_name\"\n",
        "FID = \"fsID\"\n",
        "START = \"start\"\n",
        "END = \"end\"\n",
        "SL = \t\"salience\"\t\n",
        "FOLD = \"fold\"\n",
        "CLASSID = \"classID\"\n",
        "CLASS = \"class\""
      ],
      "execution_count": null,
      "outputs": []
    },
    {
      "cell_type": "markdown",
      "metadata": {
        "id": "c0GNT3SxFefJ"
      },
      "source": [
        "## Define some processing and visualization functions\n"
      ]
    },
    {
      "cell_type": "code",
      "metadata": {
        "id": "E7QV8WE3Feyy"
      },
      "source": [
        "def plot_spectrogram(waveform, title=None, ylabel='freq_bin', aspect='auto', axs = None):\n",
        "  if axs is None :\n",
        "    fig, axs = plt.subplots(1, 1)\n",
        "  axs.set_ylabel(ylabel)\n",
        "  axs.set_xlabel('frame')\n",
        "  amp = torchaudio.transforms.AmplitudeToDB('magnitude',top_db=80)\n",
        "  res = amp(np.abs(torch.stft(waveform,2048)))[0]\n",
        "  y = torch.sum(res.permute(2,0,1),axis =0)\n",
        "  im = axs.imshow(y)\n",
        "  plt.title(title or 'Spectrogram (db)')\n",
        "\n",
        "def plot_waveform(waveform, sample_rate, title=\"Waveform\", axes = None):\n",
        "  num_channels, num_frames = waveform.shape\n",
        "  time_axis = torch.arange(0, num_frames) / sample_rate\n",
        "  waveform = waveform[0]\n",
        "  if axes is None:\n",
        "    figure, axes = plt.subplots(1, 1)\n",
        "  plt.plot(time_axis, waveform, linewidth=1)\n",
        "  plt.title(title)\n",
        "\n",
        "def load_sound_by_index(file_index, df):\n",
        "  sound_picked_fn = df[FILENAME][file_index]\n",
        "  waveform, sr = torchaudio.load(MOUNTING_LOCATION+PATH_TO_FOLDER+\"fold\"+ str(df[FOLD][file_index])+os.path.sep+sound_picked_fn) # load audio\n",
        "  audio_mono = torch.mean(waveform, dim=0, keepdim=True) # Convert sterio to mono\n",
        "  return audio_mono"
      ],
      "execution_count": null,
      "outputs": []
    },
    {
      "cell_type": "markdown",
      "metadata": {
        "id": "yLd4KPNHFR21"
      },
      "source": [
        "## Import data"
      ]
    },
    {
      "cell_type": "code",
      "metadata": {
        "colab": {
          "base_uri": "https://localhost:8080/"
        },
        "id": "pNmjtubY7gO8",
        "outputId": "5e41f3a9-e60e-4c94-c429-8a33f8d42e06"
      },
      "source": [
        "drive.mount(MOUNTING_LOCATION)"
      ],
      "execution_count": null,
      "outputs": [
        {
          "output_type": "stream",
          "text": [
            "Mounted at /content/drive\n"
          ],
          "name": "stdout"
        }
      ]
    },
    {
      "cell_type": "code",
      "metadata": {
        "colab": {
          "base_uri": "https://localhost:8080/",
          "height": 419
        },
        "id": "x22jXNgGFQEs",
        "outputId": "3a5eaad3-7c9e-4bed-e5e2-70bd30d82f44"
      },
      "source": [
        "df = pd.read_csv(MOUNTING_LOCATION+PATH_TO_FOLDER+CSV_FILENAME)\n",
        "#df = df.loc[df[\"fold\"]==1].reset_index(drop=True)  ## Select only mounting folder 1 (used for fast test)\n",
        "r,c = df.shape\n",
        "df"
      ],
      "execution_count": null,
      "outputs": [
        {
          "output_type": "execute_result",
          "data": {
            "text/html": [
              "<div>\n",
              "<style scoped>\n",
              "    .dataframe tbody tr th:only-of-type {\n",
              "        vertical-align: middle;\n",
              "    }\n",
              "\n",
              "    .dataframe tbody tr th {\n",
              "        vertical-align: top;\n",
              "    }\n",
              "\n",
              "    .dataframe thead th {\n",
              "        text-align: right;\n",
              "    }\n",
              "</style>\n",
              "<table border=\"1\" class=\"dataframe\">\n",
              "  <thead>\n",
              "    <tr style=\"text-align: right;\">\n",
              "      <th></th>\n",
              "      <th>slice_file_name</th>\n",
              "      <th>fsID</th>\n",
              "      <th>start</th>\n",
              "      <th>end</th>\n",
              "      <th>salience</th>\n",
              "      <th>fold</th>\n",
              "      <th>classID</th>\n",
              "      <th>class</th>\n",
              "    </tr>\n",
              "  </thead>\n",
              "  <tbody>\n",
              "    <tr>\n",
              "      <th>0</th>\n",
              "      <td>100032-3-0-0.wav</td>\n",
              "      <td>100032</td>\n",
              "      <td>0.000000</td>\n",
              "      <td>0.317551</td>\n",
              "      <td>1</td>\n",
              "      <td>5</td>\n",
              "      <td>3</td>\n",
              "      <td>dog_bark</td>\n",
              "    </tr>\n",
              "    <tr>\n",
              "      <th>1</th>\n",
              "      <td>100263-2-0-117.wav</td>\n",
              "      <td>100263</td>\n",
              "      <td>58.500000</td>\n",
              "      <td>62.500000</td>\n",
              "      <td>1</td>\n",
              "      <td>5</td>\n",
              "      <td>2</td>\n",
              "      <td>children_playing</td>\n",
              "    </tr>\n",
              "    <tr>\n",
              "      <th>2</th>\n",
              "      <td>100263-2-0-121.wav</td>\n",
              "      <td>100263</td>\n",
              "      <td>60.500000</td>\n",
              "      <td>64.500000</td>\n",
              "      <td>1</td>\n",
              "      <td>5</td>\n",
              "      <td>2</td>\n",
              "      <td>children_playing</td>\n",
              "    </tr>\n",
              "    <tr>\n",
              "      <th>3</th>\n",
              "      <td>100263-2-0-126.wav</td>\n",
              "      <td>100263</td>\n",
              "      <td>63.000000</td>\n",
              "      <td>67.000000</td>\n",
              "      <td>1</td>\n",
              "      <td>5</td>\n",
              "      <td>2</td>\n",
              "      <td>children_playing</td>\n",
              "    </tr>\n",
              "    <tr>\n",
              "      <th>4</th>\n",
              "      <td>100263-2-0-137.wav</td>\n",
              "      <td>100263</td>\n",
              "      <td>68.500000</td>\n",
              "      <td>72.500000</td>\n",
              "      <td>1</td>\n",
              "      <td>5</td>\n",
              "      <td>2</td>\n",
              "      <td>children_playing</td>\n",
              "    </tr>\n",
              "    <tr>\n",
              "      <th>...</th>\n",
              "      <td>...</td>\n",
              "      <td>...</td>\n",
              "      <td>...</td>\n",
              "      <td>...</td>\n",
              "      <td>...</td>\n",
              "      <td>...</td>\n",
              "      <td>...</td>\n",
              "      <td>...</td>\n",
              "    </tr>\n",
              "    <tr>\n",
              "      <th>8727</th>\n",
              "      <td>99812-1-2-0.wav</td>\n",
              "      <td>99812</td>\n",
              "      <td>159.522205</td>\n",
              "      <td>163.522205</td>\n",
              "      <td>2</td>\n",
              "      <td>7</td>\n",
              "      <td>1</td>\n",
              "      <td>car_horn</td>\n",
              "    </tr>\n",
              "    <tr>\n",
              "      <th>8728</th>\n",
              "      <td>99812-1-3-0.wav</td>\n",
              "      <td>99812</td>\n",
              "      <td>181.142431</td>\n",
              "      <td>183.284976</td>\n",
              "      <td>2</td>\n",
              "      <td>7</td>\n",
              "      <td>1</td>\n",
              "      <td>car_horn</td>\n",
              "    </tr>\n",
              "    <tr>\n",
              "      <th>8729</th>\n",
              "      <td>99812-1-4-0.wav</td>\n",
              "      <td>99812</td>\n",
              "      <td>242.691902</td>\n",
              "      <td>246.197885</td>\n",
              "      <td>2</td>\n",
              "      <td>7</td>\n",
              "      <td>1</td>\n",
              "      <td>car_horn</td>\n",
              "    </tr>\n",
              "    <tr>\n",
              "      <th>8730</th>\n",
              "      <td>99812-1-5-0.wav</td>\n",
              "      <td>99812</td>\n",
              "      <td>253.209850</td>\n",
              "      <td>255.741948</td>\n",
              "      <td>2</td>\n",
              "      <td>7</td>\n",
              "      <td>1</td>\n",
              "      <td>car_horn</td>\n",
              "    </tr>\n",
              "    <tr>\n",
              "      <th>8731</th>\n",
              "      <td>99812-1-6-0.wav</td>\n",
              "      <td>99812</td>\n",
              "      <td>332.289233</td>\n",
              "      <td>334.821332</td>\n",
              "      <td>2</td>\n",
              "      <td>7</td>\n",
              "      <td>1</td>\n",
              "      <td>car_horn</td>\n",
              "    </tr>\n",
              "  </tbody>\n",
              "</table>\n",
              "<p>8732 rows × 8 columns</p>\n",
              "</div>"
            ],
            "text/plain": [
              "         slice_file_name    fsID       start  ...  fold  classID             class\n",
              "0       100032-3-0-0.wav  100032    0.000000  ...     5        3          dog_bark\n",
              "1     100263-2-0-117.wav  100263   58.500000  ...     5        2  children_playing\n",
              "2     100263-2-0-121.wav  100263   60.500000  ...     5        2  children_playing\n",
              "3     100263-2-0-126.wav  100263   63.000000  ...     5        2  children_playing\n",
              "4     100263-2-0-137.wav  100263   68.500000  ...     5        2  children_playing\n",
              "...                  ...     ...         ...  ...   ...      ...               ...\n",
              "8727     99812-1-2-0.wav   99812  159.522205  ...     7        1          car_horn\n",
              "8728     99812-1-3-0.wav   99812  181.142431  ...     7        1          car_horn\n",
              "8729     99812-1-4-0.wav   99812  242.691902  ...     7        1          car_horn\n",
              "8730     99812-1-5-0.wav   99812  253.209850  ...     7        1          car_horn\n",
              "8731     99812-1-6-0.wav   99812  332.289233  ...     7        1          car_horn\n",
              "\n",
              "[8732 rows x 8 columns]"
            ]
          },
          "metadata": {
            "tags": []
          },
          "execution_count": 7
        }
      ]
    },
    {
      "cell_type": "markdown",
      "metadata": {
        "id": "IndjdQ60FF3k"
      },
      "source": [
        "##Exploratory data analysis"
      ]
    },
    {
      "cell_type": "code",
      "metadata": {
        "colab": {
          "base_uri": "https://localhost:8080/"
        },
        "id": "bVA8TwyaFHFY",
        "outputId": "6a4ad9c0-1e78-4dfe-8c25-3380433c1768"
      },
      "source": [
        "print(f\"In this dataset there is {df.shape[0]} sounds\")"
      ],
      "execution_count": null,
      "outputs": [
        {
          "output_type": "stream",
          "text": [
            "In this dataset there is 8732 sounds\n"
          ],
          "name": "stdout"
        }
      ]
    },
    {
      "cell_type": "code",
      "metadata": {
        "colab": {
          "base_uri": "https://localhost:8080/",
          "height": 299
        },
        "id": "mLH6tPYC8LLJ",
        "outputId": "241d6b4a-1b6f-4c38-b492-c9ee1b100969"
      },
      "source": [
        "plt.hist(df[CLASSID].values, bins=10,range=(0,9))\n",
        "plt.title('Classes histogram')"
      ],
      "execution_count": null,
      "outputs": [
        {
          "output_type": "execute_result",
          "data": {
            "text/plain": [
              "Text(0.5, 1.0, 'Classes histogram')"
            ]
          },
          "metadata": {
            "tags": []
          },
          "execution_count": 9
        },
        {
          "output_type": "display_data",
          "data": {
            "image/png": "[encoded data removed]",
            "text/plain": [
              "<Figure size 432x288 with 1 Axes>"
            ]
          },
          "metadata": {
            "tags": []
          }
        }
      ]
    },
    {
      "cell_type": "code",
      "metadata": {
        "colab": {
          "base_uri": "https://localhost:8080/",
          "height": 299
        },
        "id": "Jz0svpfm8Mkp",
        "outputId": "3845d775-b78a-4892-e5e0-31555269c736"
      },
      "source": [
        "plt.hist(df[SL].values, bins=2,range=(1,2))\n",
        "plt.title('Salience (1: Foreground, 2: Background)')"
      ],
      "execution_count": null,
      "outputs": [
        {
          "output_type": "execute_result",
          "data": {
            "text/plain": [
              "Text(0.5, 1.0, 'Salience (1: Foreground, 2: Background)')"
            ]
          },
          "metadata": {
            "tags": []
          },
          "execution_count": 10
        },
        {
          "output_type": "display_data",
          "data": {
            "image/png": "[encoded data removed]",
            "text/plain": [
              "<Figure size 432x288 with 1 Axes>"
            ]
          },
          "metadata": {
            "tags": []
          }
        }
      ]
    },
    {
      "cell_type": "code",
      "metadata": {
        "colab": {
          "base_uri": "https://localhost:8080/"
        },
        "id": "XvNC-nweEGU5",
        "outputId": "91095630-c3c2-4393-9eba-ac938e4a0558"
      },
      "source": [
        "print(f\"There is {len(np.unique(df[FID].values))} differents sources of sound in this dataset.\")"
      ],
      "execution_count": null,
      "outputs": [
        {
          "output_type": "stream",
          "text": [
            "There is 1297 differents sources of sound in this dataset.\n"
          ],
          "name": "stdout"
        }
      ]
    },
    {
      "cell_type": "markdown",
      "metadata": {
        "id": "g1xn21b3DK5v"
      },
      "source": [
        "### Sample pick"
      ]
    },
    {
      "cell_type": "code",
      "metadata": {
        "id": "q6fNChp1DRsu"
      },
      "source": [
        "dfC1 = df[df[CLASSID]==1].reset_index(drop=True)\n",
        "index = 20\n",
        "sound_picked_fn = dfC1[FILENAME][index]\n",
        "class_name1 = dfC1[CLASS][index]\n",
        "waveform, sr1 = torchaudio.load(MOUNTING_LOCATION+PATH_TO_FOLDER+\"fold\"+ str(dfC1[FOLD][index])+os.path.sep+sound_picked_fn) # load audio\n",
        "audio_mono1 = torch.mean(waveform, dim=0, keepdim=True) # Convert sterio to mono\n",
        "\n",
        "dfC2 = df[df[CLASSID]==2].reset_index(drop=True)\n",
        "sound_picked_fn = dfC2[FILENAME][0]\n",
        "class_name2 = dfC2[CLASS][0]\n",
        "waveform, sr2 = torchaudio.load(MOUNTING_LOCATION+PATH_TO_FOLDER+\"fold\"+ str(dfC2[FOLD][0])+os.path.sep+sound_picked_fn) # load audio\n",
        "audio_mono2 = torch.mean(waveform, dim=0, keepdim=True) # Convert sterio to mono\n",
        "\n",
        "dfC3 = df[df[CLASSID]==3].reset_index(drop=True)\n",
        "sound_picked_fn = dfC3[FILENAME][10]\n",
        "class_name3 = dfC3[CLASS][10]\n",
        "waveform, sr3 = torchaudio.load(MOUNTING_LOCATION+PATH_TO_FOLDER+\"fold\"+ str(dfC3[FOLD][10])+os.path.sep+sound_picked_fn) # load audio\n",
        "audio_mono3 = torch.mean(waveform, dim=0, keepdim=True) # Convert sterio to mono"
      ],
      "execution_count": null,
      "outputs": []
    },
    {
      "cell_type": "code",
      "metadata": {
        "colab": {
          "base_uri": "https://localhost:8080/",
          "height": 281
        },
        "id": "eeehjg9JGi4t",
        "outputId": "51d2d2f4-fb3c-402e-97e5-b42fd15f87af"
      },
      "source": [
        "sfig, saxs = plt.subplots(nrows=1, ncols=3, figsize=(12,4))\n",
        "\n",
        "plt.sca(saxs[0])\n",
        "plot_waveform(audio_mono1.numpy(),sr1, title=\"Waveform sample \"+str(class_name1),axes=saxs[0])\n",
        "\n",
        "plt.sca(saxs[1])\n",
        "plot_waveform(audio_mono2.numpy(),sr2, title=\"Waveform sample \"+str(class_name2),axes=saxs[1])\n",
        "\n",
        "plt.sca(saxs[2])\n",
        "plot_waveform(audio_mono3.numpy(),sr3,title=\"Waveform sample \"+str(class_name3),axes=saxs[2])"
      ],
      "execution_count": null,
      "outputs": [
        {
          "output_type": "display_data",
          "data": {
            "image/png": "[encoded data removed]",
            "text/plain": [
              "<Figure size 864x288 with 3 Axes>"
            ]
          },
          "metadata": {
            "tags": []
          }
        }
      ]
    },
    {
      "cell_type": "code",
      "metadata": {
        "colab": {
          "base_uri": "https://localhost:8080/"
        },
        "id": "ISSHUT3Jaxeu",
        "outputId": "158db42f-ca4f-449a-8579-c150387e3991"
      },
      "source": [
        "mfig, maxs = plt.subplots(nrows=1, ncols=3, figsize=(12,4))\n",
        "plt.sca(maxs[0])\n",
        "plot_spectrogram(audio_mono1, title=\"Spectrogram sample \"+class_name1,axs=maxs[0])\n",
        "\n",
        "plt.sca(maxs[1])\n",
        "plot_spectrogram(audio_mono2, title=\"Spectrogram sample \"+class_name2,axs=maxs[1])\n",
        "\n",
        "plt.sca(maxs[2])\n",
        "plot_spectrogram(audio_mono3, title=\"Spectrogram sample \"+class_name3,axs=maxs[2])"
      ],
      "execution_count": null,
      "outputs": [
        {
          "output_type": "stream",
          "text": [
            "/usr/local/lib/python3.7/dist-packages/torch/functional.py:581: UserWarning: stft will soon require the return_complex parameter be given for real inputs, and will further require that return_complex=True in a future PyTorch release. (Triggered internally at  /pytorch/aten/src/ATen/native/SpectralOps.cpp:639.)\n",
            "  normalized, onesided, return_complex)\n"
          ],
          "name": "stderr"
        },
        {
          "output_type": "display_data",
          "data": {
            "image/png": "[encoded data removed]",
            "text/plain": [
              "<Figure size 864x288 with 3 Axes>"
            ]
          },
          "metadata": {
            "tags": []
          }
        }
      ]
    },
    {
      "cell_type": "code",
      "metadata": {
        "colab": {
          "base_uri": "https://localhost:8080/"
        },
        "id": "elA_P2XK3B9K",
        "outputId": "b0cfa906-8240-4c61-80ca-a64596edf1a3"
      },
      "source": [
        "amp = torchaudio.transforms.AmplitudeToDB('magnitude',top_db=80)\n",
        "i1 = (torch.mean(torch.sum(amp(torch.abs(torch.stft(audio_mono1,799)[0])), axis=2).T, axis=0).reshape(20,20))\n",
        "i2 = (torch.mean(torch.sum(amp(torch.abs(torch.stft(audio_mono2,799)[0])), axis=2).T, axis=0).reshape(20,20))\n",
        "i3 = (torch.mean(torch.sum(amp(torch.abs(torch.stft(audio_mono3,799)[0])), axis=2).T, axis=0).reshape(20,20))\n",
        "\n",
        "fig, axs = plt.subplots(nrows=1, ncols=3, figsize=(12,4))\n",
        "plt.sca(axs[0])\n",
        "plt.imshow(i1)\n",
        "plt.title(\"Sample \"+class_name1)\n",
        "plt.sca(axs[1])\n",
        "plt.imshow(i2)\n",
        "plt.title(\"Sample \"+class_name2)\n",
        "plt.sca(axs[2])\n",
        "plt.imshow(i1)\n",
        "plt.title(\"Sample \"+class_name3)\n",
        "#plt.tight_layout()\n",
        "plt.suptitle('Compressed reshaped visu of spectrogram')\n",
        "plt.show()"
      ],
      "execution_count": null,
      "outputs": [
        {
          "output_type": "display_data",
          "data": {
            "image/png": "[encoded data removed]",
            "text/plain": [
              "<Figure size 864x288 with 3 Axes>"
            ]
          },
          "metadata": {
            "tags": []
          }
        }
      ]
    },
    {
      "cell_type": "markdown",
      "metadata": {
        "id": "UefbP9w-3CqH"
      },
      "source": [
        "## Preprocessing\n"
      ]
    },
    {
      "cell_type": "code",
      "metadata": {
        "colab": {
          "base_uri": "https://localhost:8080/"
        },
        "id": "Hymq6F_r3BKG",
        "outputId": "fb11a2e8-099d-4a29-e8e1-6c789167b410"
      },
      "source": [
        "arrOfImages = []\n",
        "amp = torchaudio.transforms.AmplitudeToDB('magnitude',top_db=80)\n",
        "\n",
        "def specAndResize(i):\n",
        "    return  (torch.mean(torch.sum(amp(torch.abs(torch.stft(load_sound_by_index(i, df),799)[0])), axis=2).T, axis=0).reshape(20,20))\n",
        "\n",
        "for i in range(0, df.shape[0]):\n",
        "  if (i%500 == 0):\n",
        "    print(\"Pourcentage effectué : \"+str(int((i/df.shape[0])*100)))\n",
        "  arrOfImages.append(specAndResize(i))\n",
        "  \n",
        "arrOfImages = np.array([els.numpy() for els in arrOfImages])"
      ],
      "execution_count": null,
      "outputs": [
        {
          "output_type": "stream",
          "text": [
            "Pourcentage effectué : 0\n",
            "Pourcentage effectué : 5\n",
            "Pourcentage effectué : 11\n",
            "Pourcentage effectué : 17\n",
            "Pourcentage effectué : 22\n",
            "Pourcentage effectué : 28\n",
            "Pourcentage effectué : 34\n",
            "Pourcentage effectué : 40\n",
            "Pourcentage effectué : 45\n",
            "Pourcentage effectué : 51\n",
            "Pourcentage effectué : 57\n",
            "Pourcentage effectué : 62\n",
            "Pourcentage effectué : 68\n",
            "Pourcentage effectué : 74\n",
            "Pourcentage effectué : 80\n",
            "Pourcentage effectué : 85\n",
            "Pourcentage effectué : 91\n",
            "Pourcentage effectué : 97\n"
          ],
          "name": "stdout"
        }
      ]
    },
    {
      "cell_type": "code",
      "metadata": {
        "colab": {
          "base_uri": "https://localhost:8080/"
        },
        "id": "8ogQ1WNH-99F",
        "outputId": "a62ff66c-3a40-44a2-9023-fdee7445966c"
      },
      "source": [
        "device = torch.device(\"cuda\" if torch.cuda.is_available() else \"cpu\")\n",
        "print(device)\n",
        "\n",
        "class SoundDataset(Dataset):\n",
        "    def __init__(self, dataframe, arrayOfImages , transform=None):\n",
        "        \"\"\"\n",
        "        Args:\n",
        "            dataframe (Panda df): dataframe for sounds\n",
        "            transform (callable, optional): Optional transform to be applied\n",
        "                on a sample.\n",
        "            images (numpy array 2D) : Array of images (compressed spectrograms)\n",
        "        \"\"\"\n",
        "        self.sound_frame = dataframe\n",
        "        self.transform = transform\n",
        "        self.images = arrayOfImages\n",
        "\n",
        "    def __len__(self):\n",
        "        return len(self.sound_frame)\n",
        "\n",
        "    def filename(self, idx):\n",
        "      return os.path.join(MOUNTING_LOCATION+PATH_TO_FOLDER+\"fold\"+str(self.sound_frame[FOLD][idx])+os.path.sep,self.sound_frame[FILENAME][idx]) \n",
        "\n",
        "    def __getitem__(self, idx):\n",
        "        if torch.is_tensor(idx):\n",
        "            idx = idx.tolist()\n",
        "        \n",
        "        spec = self.images.squeeze()[idx]\n",
        "        image=spec\n",
        "        target = self.sound_frame[CLASSID][idx]\n",
        "\n",
        "        if self.transform:\n",
        "            image = self.transform(image)\n",
        "\n",
        "        return image, target\n",
        "\n",
        "transform = transforms.Compose([transforms.ToTensor(), transforms.Resize((20,20)), transforms.Normalize(np.mean(arrOfImages),np.std(arrOfImages))])\n",
        "\n",
        "ds = SoundDataset(df,arrOfImages, transform=transform)\n",
        "train_set, val_test_set = torch.utils.data.random_split(ds, [round(r*0.6), r-round(r*0.6)])\n",
        "test_set, val_set = torch.utils.data.random_split(val_test_set, [int((r-round(r*0.6))*0.5),int((r-round(r*0.6))*0.5)+1])#+1\n",
        "train_loader = DataLoader(train_set, batch_size=16,shuffle=True, num_workers=2)\n",
        "val_loader = DataLoader(val_set, batch_size=16,shuffle=True, num_workers=2)\n",
        "test_loader = DataLoader(test_set, batch_size=16,shuffle=True, num_workers=2)"
      ],
      "execution_count": null,
      "outputs": [
        {
          "output_type": "stream",
          "text": [
            "cpu\n"
          ],
          "name": "stdout"
        }
      ]
    },
    {
      "cell_type": "code",
      "metadata": {
        "colab": {
          "base_uri": "https://localhost:8080/",
          "height": 468
        },
        "id": "WVr_xaVtEhOB",
        "outputId": "3ff6bede-5726-416a-ad7f-42c3410e3f8e"
      },
      "source": [
        "class Mycnn(nn.Module):\n",
        "    def __init__(self):\n",
        "        super().__init__()\n",
        "        # TODO\n",
        "        self.conv1 = nn.Conv2d(1,64,3, padding=1)\n",
        "        self.pool2 = nn.MaxPool2d(2, 2, padding=1)\n",
        "        self.conv5 = nn.Conv2d(64,128,3, padding=1)\n",
        "        self.conv6 = nn.Conv2d(128,128,3, padding=1)\n",
        "        self.fully_connected1 = nn.Linear(128*9,128)\n",
        "        self.dropout = nn.Dropout(0.4)\n",
        "        self.fully_connected3 = nn.Linear(128,10)\n",
        "        self.batch_norm = nn.BatchNorm2d(128*8)\n",
        "      \n",
        "    def forward(self, x):\n",
        "        # TODO\n",
        "        x = self.pool2(F.relu(self.conv1(x)))\n",
        "        x = self.pool2(F.relu(self.conv5(x)))\n",
        "        x = self.pool2(F.relu(self.conv6(x)))  \n",
        "        x = self.pool2(F.relu(self.conv6(x)))\n",
        "        #print(x.shape)\n",
        "        x = x.view(-1, 128*9)\n",
        "        x = F.relu(self.fully_connected1(x))\n",
        "        x = self.dropout(x)\n",
        "        x = self.fully_connected3(x)  \n",
        "        x = F.log_softmax(x)      \n",
        "        return x\n",
        "\n",
        "criterion = nn.NLLLoss()\n",
        "model = Mycnn().to(device)\n",
        "optimizer = optim.AdamW(model.parameters(), lr = 0.001, amsgrad=True)\n",
        "\n",
        "epochs = 50\n",
        "steps = 0\n",
        "running_loss = 0\n",
        "loss_tab = []\n",
        "val_loss_tab = []\n",
        "val_acc_tab = []\n",
        "acc_tab = []\n",
        "accuracy = 0\n",
        "for epoch in range(epochs):\n",
        "    for inputs, labels in train_loader:\n",
        "        steps += 1\n",
        "        # Move input and label tensors to the default device\n",
        "        inputs, labels = inputs.to(device), labels.to(device)\n",
        " \n",
        "        res = model(inputs)\n",
        "        loss = criterion(res, labels)\n",
        "        running_loss += loss.item()\n",
        "        loss.backward()\n",
        "        optimizer.step()\n",
        "        optimizer.zero_grad()     \n",
        "    \n",
        "        top_probs, top_class = torch.topk(torch.exp(res), 1,dim=1)\n",
        "        valid_pred = top_class == labels.view(*top_class.shape)\n",
        "        count = torch.mean((valid_pred).type(torch.FloatTensor))\n",
        "        accuracy += count\n",
        "    val_loss = 0\n",
        "    val_accuracy = 0\n",
        "    model.eval()\n",
        "    with torch.no_grad():\n",
        "        for inputs, labels in val_loader:\n",
        "            inputs, labels = inputs.to(device), labels.to(device)\n",
        "            res = model(inputs)\n",
        "            valR_loss = criterion(res, labels)\n",
        "\n",
        "            val_loss += valR_loss.item()\n",
        "            top_probs, top_class = torch.topk(torch.exp(res), 1,dim=1)\n",
        "            valid_pred = top_class == labels.view(*top_class.shape)\n",
        "            count = torch.mean((valid_pred).type(torch.FloatTensor))\n",
        "            val_accuracy += count\n",
        "            \n",
        "    print(f\"Epoch {epoch+1}/{epochs}.. \"\n",
        "          f\"Train loss: {running_loss/len(train_loader):.3f}.. \"\n",
        "          f\"Val loss: {val_loss/len(val_loader):.3f}.. \"\n",
        "          f\"Val accuracy: {val_accuracy/len(val_loader):.3f}\")\n",
        "    val_loss_tab.append(val_loss/len(val_loader))\n",
        "    loss_tab.append(val_loss/len(train_loader))\n",
        "    val_acc_tab.append(val_accuracy/len(val_loader))\n",
        "    acc_tab.append(accuracy/len(train_loader))\n",
        "    accuracy = 0\n",
        "    running_loss = 0\n",
        "    model.train()"
      ],
      "execution_count": null,
      "outputs": [
        {
          "output_type": "stream",
          "text": [
            "/usr/local/lib/python3.7/dist-packages/ipykernel_launcher.py:25: UserWarning: Implicit dimension choice for log_softmax has been deprecated. Change the call to include dim=X as an argument.\n"
          ],
          "name": "stderr"
        },
        {
          "output_type": "stream",
          "text": [
            "Epoch 1/50.. Train loss: 2.027.. Val loss: 1.766.. Val accuracy: 0.357\n"
          ],
          "name": "stdout"
        },
        {
          "output_type": "error",
          "ename": "KeyboardInterrupt",
          "evalue": "ignored",
          "traceback": [
            "\u001b[0;31m---------------------------------------------------------------------------\u001b[0m",
            "\u001b[0;31mKeyboardInterrupt\u001b[0m                         Traceback (most recent call last)",
            "\u001b[0;32m<ipython-input-40-d5d09d030a3b>\u001b[0m in \u001b[0;36m<module>\u001b[0;34m()\u001b[0m\n\u001b[1;32m     48\u001b[0m         \u001b[0mrunning_loss\u001b[0m \u001b[0;34m+=\u001b[0m \u001b[0mloss\u001b[0m\u001b[0;34m.\u001b[0m\u001b[0mitem\u001b[0m\u001b[0;34m(\u001b[0m\u001b[0;34m)\u001b[0m\u001b[0;34m\u001b[0m\u001b[0;34m\u001b[0m\u001b[0m\n\u001b[1;32m     49\u001b[0m         \u001b[0mloss\u001b[0m\u001b[0;34m.\u001b[0m\u001b[0mbackward\u001b[0m\u001b[0;34m(\u001b[0m\u001b[0;34m)\u001b[0m\u001b[0;34m\u001b[0m\u001b[0;34m\u001b[0m\u001b[0m\n\u001b[0;32m---> 50\u001b[0;31m         \u001b[0moptimizer\u001b[0m\u001b[0;34m.\u001b[0m\u001b[0mstep\u001b[0m\u001b[0;34m(\u001b[0m\u001b[0;34m)\u001b[0m\u001b[0;34m\u001b[0m\u001b[0;34m\u001b[0m\u001b[0m\n\u001b[0m\u001b[1;32m     51\u001b[0m         \u001b[0moptimizer\u001b[0m\u001b[0;34m.\u001b[0m\u001b[0mzero_grad\u001b[0m\u001b[0;34m(\u001b[0m\u001b[0;34m)\u001b[0m\u001b[0;34m\u001b[0m\u001b[0;34m\u001b[0m\u001b[0m\n\u001b[1;32m     52\u001b[0m \u001b[0;34m\u001b[0m\u001b[0m\n",
            "\u001b[0;32m/usr/local/lib/python3.7/dist-packages/torch/optim/optimizer.py\u001b[0m in \u001b[0;36mwrapper\u001b[0;34m(*args, **kwargs)\u001b[0m\n\u001b[1;32m     87\u001b[0m                 \u001b[0mprofile_name\u001b[0m \u001b[0;34m=\u001b[0m \u001b[0;34m\"Optimizer.step#{}.step\"\u001b[0m\u001b[0;34m.\u001b[0m\u001b[0mformat\u001b[0m\u001b[0;34m(\u001b[0m\u001b[0mobj\u001b[0m\u001b[0;34m.\u001b[0m\u001b[0m__class__\u001b[0m\u001b[0;34m.\u001b[0m\u001b[0m__name__\u001b[0m\u001b[0;34m)\u001b[0m\u001b[0;34m\u001b[0m\u001b[0;34m\u001b[0m\u001b[0m\n\u001b[1;32m     88\u001b[0m                 \u001b[0;32mwith\u001b[0m \u001b[0mtorch\u001b[0m\u001b[0;34m.\u001b[0m\u001b[0mautograd\u001b[0m\u001b[0;34m.\u001b[0m\u001b[0mprofiler\u001b[0m\u001b[0;34m.\u001b[0m\u001b[0mrecord_function\u001b[0m\u001b[0;34m(\u001b[0m\u001b[0mprofile_name\u001b[0m\u001b[0;34m)\u001b[0m\u001b[0;34m:\u001b[0m\u001b[0;34m\u001b[0m\u001b[0;34m\u001b[0m\u001b[0m\n\u001b[0;32m---> 89\u001b[0;31m                     \u001b[0;32mreturn\u001b[0m \u001b[0mfunc\u001b[0m\u001b[0;34m(\u001b[0m\u001b[0;34m*\u001b[0m\u001b[0margs\u001b[0m\u001b[0;34m,\u001b[0m \u001b[0;34m**\u001b[0m\u001b[0mkwargs\u001b[0m\u001b[0;34m)\u001b[0m\u001b[0;34m\u001b[0m\u001b[0;34m\u001b[0m\u001b[0m\n\u001b[0m\u001b[1;32m     90\u001b[0m             \u001b[0;32mreturn\u001b[0m \u001b[0mwrapper\u001b[0m\u001b[0;34m\u001b[0m\u001b[0;34m\u001b[0m\u001b[0m\n\u001b[1;32m     91\u001b[0m \u001b[0;34m\u001b[0m\u001b[0m\n",
            "\u001b[0;32m/usr/local/lib/python3.7/dist-packages/torch/autograd/grad_mode.py\u001b[0m in \u001b[0;36mdecorate_context\u001b[0;34m(*args, **kwargs)\u001b[0m\n\u001b[1;32m     25\u001b[0m         \u001b[0;32mdef\u001b[0m \u001b[0mdecorate_context\u001b[0m\u001b[0;34m(\u001b[0m\u001b[0;34m*\u001b[0m\u001b[0margs\u001b[0m\u001b[0;34m,\u001b[0m \u001b[0;34m**\u001b[0m\u001b[0mkwargs\u001b[0m\u001b[0;34m)\u001b[0m\u001b[0;34m:\u001b[0m\u001b[0;34m\u001b[0m\u001b[0;34m\u001b[0m\u001b[0m\n\u001b[1;32m     26\u001b[0m             \u001b[0;32mwith\u001b[0m \u001b[0mself\u001b[0m\u001b[0;34m.\u001b[0m\u001b[0m__class__\u001b[0m\u001b[0;34m(\u001b[0m\u001b[0;34m)\u001b[0m\u001b[0;34m:\u001b[0m\u001b[0;34m\u001b[0m\u001b[0;34m\u001b[0m\u001b[0m\n\u001b[0;32m---> 27\u001b[0;31m                 \u001b[0;32mreturn\u001b[0m \u001b[0mfunc\u001b[0m\u001b[0;34m(\u001b[0m\u001b[0;34m*\u001b[0m\u001b[0margs\u001b[0m\u001b[0;34m,\u001b[0m \u001b[0;34m**\u001b[0m\u001b[0mkwargs\u001b[0m\u001b[0;34m)\u001b[0m\u001b[0;34m\u001b[0m\u001b[0;34m\u001b[0m\u001b[0m\n\u001b[0m\u001b[1;32m     28\u001b[0m         \u001b[0;32mreturn\u001b[0m \u001b[0mcast\u001b[0m\u001b[0;34m(\u001b[0m\u001b[0mF\u001b[0m\u001b[0;34m,\u001b[0m \u001b[0mdecorate_context\u001b[0m\u001b[0;34m)\u001b[0m\u001b[0;34m\u001b[0m\u001b[0;34m\u001b[0m\u001b[0m\n\u001b[1;32m     29\u001b[0m \u001b[0;34m\u001b[0m\u001b[0m\n",
            "\u001b[0;32m/usr/local/lib/python3.7/dist-packages/torch/optim/adamw.py\u001b[0m in \u001b[0;36mstep\u001b[0;34m(self, closure)\u001b[0m\n\u001b[1;32m    119\u001b[0m                     \u001b[0mgroup\u001b[0m\u001b[0;34m[\u001b[0m\u001b[0;34m'lr'\u001b[0m\u001b[0;34m]\u001b[0m\u001b[0;34m,\u001b[0m\u001b[0;34m\u001b[0m\u001b[0;34m\u001b[0m\u001b[0m\n\u001b[1;32m    120\u001b[0m                     \u001b[0mgroup\u001b[0m\u001b[0;34m[\u001b[0m\u001b[0;34m'weight_decay'\u001b[0m\u001b[0;34m]\u001b[0m\u001b[0;34m,\u001b[0m\u001b[0;34m\u001b[0m\u001b[0;34m\u001b[0m\u001b[0m\n\u001b[0;32m--> 121\u001b[0;31m                     group['eps'])\n\u001b[0m\u001b[1;32m    122\u001b[0m \u001b[0;34m\u001b[0m\u001b[0m\n\u001b[1;32m    123\u001b[0m         \u001b[0;32mreturn\u001b[0m \u001b[0mloss\u001b[0m\u001b[0;34m\u001b[0m\u001b[0;34m\u001b[0m\u001b[0m\n",
            "\u001b[0;32m/usr/local/lib/python3.7/dist-packages/torch/optim/_functional.py\u001b[0m in \u001b[0;36madamw\u001b[0;34m(params, grads, exp_avgs, exp_avg_sqs, max_exp_avg_sqs, state_steps, amsgrad, beta1, beta2, lr, weight_decay, eps)\u001b[0m\n\u001b[1;32m    126\u001b[0m \u001b[0;34m\u001b[0m\u001b[0m\n\u001b[1;32m    127\u001b[0m         \u001b[0;31m# Decay the first and second moment running average coefficient\u001b[0m\u001b[0;34m\u001b[0m\u001b[0;34m\u001b[0m\u001b[0;34m\u001b[0m\u001b[0m\n\u001b[0;32m--> 128\u001b[0;31m         \u001b[0mexp_avg\u001b[0m\u001b[0;34m.\u001b[0m\u001b[0mmul_\u001b[0m\u001b[0;34m(\u001b[0m\u001b[0mbeta1\u001b[0m\u001b[0;34m)\u001b[0m\u001b[0;34m.\u001b[0m\u001b[0madd_\u001b[0m\u001b[0;34m(\u001b[0m\u001b[0mgrad\u001b[0m\u001b[0;34m,\u001b[0m \u001b[0malpha\u001b[0m\u001b[0;34m=\u001b[0m\u001b[0;36m1\u001b[0m \u001b[0;34m-\u001b[0m \u001b[0mbeta1\u001b[0m\u001b[0;34m)\u001b[0m\u001b[0;34m\u001b[0m\u001b[0;34m\u001b[0m\u001b[0m\n\u001b[0m\u001b[1;32m    129\u001b[0m         \u001b[0mexp_avg_sq\u001b[0m\u001b[0;34m.\u001b[0m\u001b[0mmul_\u001b[0m\u001b[0;34m(\u001b[0m\u001b[0mbeta2\u001b[0m\u001b[0;34m)\u001b[0m\u001b[0;34m.\u001b[0m\u001b[0maddcmul_\u001b[0m\u001b[0;34m(\u001b[0m\u001b[0mgrad\u001b[0m\u001b[0;34m,\u001b[0m \u001b[0mgrad\u001b[0m\u001b[0;34m,\u001b[0m \u001b[0mvalue\u001b[0m\u001b[0;34m=\u001b[0m\u001b[0;36m1\u001b[0m \u001b[0;34m-\u001b[0m \u001b[0mbeta2\u001b[0m\u001b[0;34m)\u001b[0m\u001b[0;34m\u001b[0m\u001b[0;34m\u001b[0m\u001b[0m\n\u001b[1;32m    130\u001b[0m         \u001b[0;32mif\u001b[0m \u001b[0mamsgrad\u001b[0m\u001b[0;34m:\u001b[0m\u001b[0;34m\u001b[0m\u001b[0;34m\u001b[0m\u001b[0m\n",
            "\u001b[0;31mKeyboardInterrupt\u001b[0m: "
          ]
        }
      ]
    },
    {
      "cell_type": "code",
      "metadata": {
        "id": "Luc4d2G8HoKZ"
      },
      "source": [
        "test_loss = 0\n",
        "accuracy = 0\n",
        "model.eval()\n",
        "with torch.no_grad():\n",
        "    for inputs, labels in test_loader:\n",
        "        inputs, labels = inputs.to(device), labels.to(device)\n",
        "        res = model(inputs)\n",
        "        testR_loss = criterion(res, labels)\n",
        "\n",
        "        test_loss += testR_loss.item()\n",
        "        top_probs, top_class = torch.topk(torch.exp(res), 1,dim=1)\n",
        "\n",
        "        valid_pred = top_class == labels.view(*top_class.shape)\n",
        "        count = torch.mean((valid_pred).type(torch.FloatTensor))\n",
        "        accuracy += count\n",
        "\n",
        "print(f\"Test accuracy: {accuracy/len(test_loader):.3f}\")"
      ],
      "execution_count": null,
      "outputs": []
    },
    {
      "cell_type": "code",
      "metadata": {
        "id": "10RHh60AZql2"
      },
      "source": [
        "# Save weights\n",
        "torch.save(model.state_dict(), \"model_small.h5\")"
      ],
      "execution_count": null,
      "outputs": []
    },
    {
      "cell_type": "markdown",
      "metadata": {
        "id": "ecqWP6_SlUTg"
      },
      "source": [
        "## Metrics"
      ]
    },
    {
      "cell_type": "code",
      "metadata": {
        "id": "FzaX84BLAuyb"
      },
      "source": [
        "# loss curves\n",
        "x = np.linspace(0,len(loss_tab), len(val_loss_tab))\n",
        "plt.plot(x, loss_tab, label= \"Train loss\")\n",
        "plt.plot(x, val_loss_tab, label = \"Test loss\")\n",
        "plt.legend()"
      ],
      "execution_count": null,
      "outputs": []
    },
    {
      "cell_type": "code",
      "metadata": {
        "id": "sgDK298sAwuM"
      },
      "source": [
        "#Accuracy curves\n",
        "x = np.linspace(0,len(acc_tab), len(val_acc_tab))\n",
        "plt.plot(x, acc_tab, label= \"Train acc\")\n",
        "plt.plot(x, val_acc_tab, label = \"Val acc\")\n",
        "plt.legend()"
      ],
      "execution_count": null,
      "outputs": []
    },
    {
      "cell_type": "code",
      "metadata": {
        "id": "F_YfYenclenA"
      },
      "source": [
        "model.eval()\n",
        "labels_tab =[]\n",
        "pred_tab =[]\n",
        "model_test = model.to(\"cpu\")\n",
        "with torch.no_grad():\n",
        "    for inputs, labels in test_loader:\n",
        "        inputs, labels\n",
        "        res = model_test(inputs)\n",
        "        top_probs, top_class = torch.topk(torch.exp(res), 1,dim=1)\n",
        "        labels_tab.append(labels.clone().detach().to(\"cpu\"))\n",
        "        pred_tab.append(top_class.clone().detach().to(\"cpu\"))\n",
        "        \n",
        "classes = []\n",
        "for values in range(0,10):\n",
        "  classes.append(df[df[CLASSID] == values][CLASS].reset_index()[CLASS][0])\n",
        "\n",
        "from sklearn.metrics import confusion_matrix\n",
        "labels = np.concatenate([el.numpy() for el in labels_tab]).ravel()\n",
        "\n",
        "pred = np.concatenate([el.numpy() for el in pred_tab]).ravel()\n",
        "\n",
        "cm = confusion_matrix(labels, pred)\n",
        "\n",
        "cm = cm.astype('float') / cm.sum(axis=1)[:, np.newaxis]\n",
        "\n",
        "plt.imshow(cm, interpolation='nearest')\n",
        "plt.title(\"Confusion matrix\")\n",
        "plt.colorbar()\n",
        "tick_marks = np.arange(len(classes))\n",
        "plt.xticks(tick_marks, classes, rotation=90)\n",
        "plt.yticks(tick_marks, classes)\n",
        "\n",
        "fmt = '.2f' \n",
        "thresh = cm.max() / 2.\n",
        "\n",
        "plt.ylabel('True label')\n",
        "plt.xlabel('Predicted label')"
      ],
      "execution_count": null,
      "outputs": []
    },
    {
      "cell_type": "markdown",
      "metadata": {
        "id": "Hngc61Bekfai"
      },
      "source": [
        "## Predict"
      ]
    },
    {
      "cell_type": "code",
      "metadata": {
        "id": "x-kHgpgxBa5k"
      },
      "source": [
        "# Can import model from saved weights\n",
        "model = Mycnn()\n",
        "model.load_state_dict(torch.load(\"model_small.h5\"))\n",
        "model = model.to(device)\n",
        "model.eval()\n",
        "i = int(np.random.random()*df.shape[0])\n",
        "w = load_sound_by_index(i, df)\n",
        "im = torch.mean(torch.sum(amp(torch.abs(torch.stft(w,799)[0])), axis=2).T, axis=0).reshape(20,20).numpy()\n",
        "transform = transforms.Compose([transforms.ToTensor(), transforms.Resize((20,20)), transforms.Normalize(np.mean(arrOfImages),np.std(arrOfImages))])\n",
        "im = torch.unsqueeze(transform(im),0)\n",
        "res = model(im)\n",
        "filepath = MOUNTING_LOCATION+PATH_TO_FOLDER+\"fold\"+str(df[FOLD][i])+os.path.sep+df[FILENAME][i]\n",
        "prob, ind= torch.topk(torch.exp(res), 1,dim=1)\n",
        "print(f\"proba : {prob.item():.2f}\")\n",
        "print(f\"Classe la plus probable {classes[ind]}\")\n",
        "ipd.Audio(filepath)"
      ],
      "execution_count": null,
      "outputs": []
    },
    {
      "cell_type": "markdown",
      "metadata": {
        "id": "Ub8I6rvnlisi"
      },
      "source": [
        "## Observations "
      ]
    },
    {
      "cell_type": "markdown",
      "metadata": {
        "id": "yt9V2oPDm4AJ"
      },
      "source": [
        "This version using a smaller CNN on compressed spectrogram is really efficient, thanks to the smaller neural network used and it is possible to train it even faster than the larger one using resnet and pretrained weights.\n",
        "\n",
        "The accuracy on val set is really good, as good as the larger version, but the loss on val set is not as good as the larger version.\n",
        "\n",
        "We can see that loss is going a bit up, so implementing early stopping based on loss, could be interesting. But validation accuracy is still increasing, so I decided to not do it.\n"
      ]
    }
  ]
}